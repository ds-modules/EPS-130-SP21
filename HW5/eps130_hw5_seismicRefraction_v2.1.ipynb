{
 "cells": [
  {
   "cell_type": "code",
   "execution_count": null,
   "metadata": {
    "deletable": false,
    "editable": false
   },
   "outputs": [],
   "source": [
    "# Initialize Otter\n",
    "import otter\n",
    "grader = otter.Notebook(\"eps130_hw5_seismicRefraction_v2.1.ipynb\")"
   ]
  },
  {
   "cell_type": "markdown",
   "metadata": {},
   "source": [
    "# Seismic Refraction\n",
    "\n",
    "## Introduction\n",
    "\n",
    "Seismic refraction is a method utilizing first arrival traveltime measurements made from a linear array of sensors. This method makes use of the fact that when downward propagating seismic waves interact with deeper and faster layers head waves develop, which travel horizontally along the top of the faster surface. Along a given array profile multiple headwave arrivals can occur and be measured. This method has been applied at scales from 1000 km, e.g. the Soviet “peaceful nuclear weapons” program which imaged lithospheric scale structure, to arrays of 30 m to investigate shallow soil and rock characteristics. There are numerous engineering, resource exploration and environmental applications.\n",
    "\n",
    "## Objective \n",
    "In this exercise, we will investigate the different seismic refraction record sections from the experiment."
   ]
  },
  {
   "cell_type": "code",
   "execution_count": 1,
   "metadata": {},
   "outputs": [],
   "source": [
    "#Initial Setup and Subroutine Definitions\n",
    "import numpy as np\n",
    "import matplotlib\n",
    "import matplotlib.pyplot as plt"
   ]
  },
  {
   "cell_type": "markdown",
   "metadata": {},
   "source": [
    "## Exercises\n",
    "Several years ago a geotechnical engineering consulting company carried out a seismic refraction experiment over a graded building pad to investigate the subsurface velocity structure for forensics of the grading work. Figure 1 illustrates the site. The 24 channel seismic system had sensors deployed at even 5 ft intervals. The seisemic source consisted of repeated 20lb hammer blows (3x) on an aluminum striking plate. The team could move the source position around to generate different record sections. Figure 2 shows one of the 24-channel record sections, which contains data from zero time to 0.160 seconds, by way of an example. \n",
    "\n",
    "Figure 3 shows the same record section as Figure 2 adjusting the scale from 0 to 0.06 seconds to make the first arrivals clearer and easier to pick. Figure 4, and 5 show record sections from the same array of geophones for different shot points, shown in red. You will use the record sections Figures 3-5 to make first arrival time measurements, estimate the apparent velocities of direct and refracted arrivals, and to invert the data for a dipping plane-layer model.\n",
    "\n",
    "##### Figure 1. Photograph and topography map of the site. The photograph is view east, and the topographic map is oriented with north at the top of the page.\n",
    "\n",
    "<img src='fig1a.png'>\n",
    "<img src='fig1b.png'>\n",
    "\n",
    "##### Figure 2. An example survey record section from one shot. There is a very clear refracted arrival beyond geophone 8. Later phases are secondary P-waves and surface waves.\n",
    "\n",
    "<img src='fig2.jpg'>\n"
   ]
  },
  {
   "cell_type": "markdown",
   "metadata": {},
   "source": [
    "##### Figure 3 Seismic record section for source position located 5 ft south of the array. This figure limits the time axis from zero to 0.06 seconds for the purposes of your analysis. The minor grid ticks are 1ms.\n",
    "\n",
    "<img src='fig3_grid.png'>\n",
    "\n",
    "##### Figure 4 Seismic record section for source position located 5 ft north of the array.\n",
    "<img src='fig4_grid.png'>\n",
    "\n",
    "##### Figure 5 Seismic record section for source position located between geophones 12 and 13 \n",
    "<img src='fig5_grid.png'>"
   ]
  },
  {
   "cell_type": "markdown",
   "metadata": {},
   "source": [
    "### Exercise 1: In Class Activity\n",
    "\n",
    "We will work with Figures 3 & 4 during class time. Using digital tools or printed copies and a ruler, we'll draft in straight lines fitted to the arrivals and identify where changes in slope occur. We'll tabulate the arrival time results for a two-layer model and use them for the remaining exercises."
   ]
  },
  {
   "cell_type": "markdown",
   "metadata": {
    "deletable": false,
    "editable": false
   },
   "source": [
    "<!-- BEGIN QUESTION -->\n",
    "\n",
    "#### Question 1.1\n",
    "Add the annotated figures we produced during class to the cell below by uploading them to the same folder as this notebook and adding a line like `<img src=filename.png>`. Are there any deviations from the assumption of a straight line fit to the refracted arrivals?\n",
    "\n",
    "<!--\n",
    "BEGIN QUESTION\n",
    "name: q1.1\n",
    "manual: true\n",
    "-->"
   ]
  },
  {
   "cell_type": "markdown",
   "metadata": {},
   "source": [
    "_Type your answer here, replacing this text._"
   ]
  },
  {
   "cell_type": "markdown",
   "metadata": {
    "deletable": false,
    "editable": false
   },
   "source": [
    "<!-- END QUESTION -->\n",
    "\n",
    "#### Question 1.2\n",
    "Enter the arrival times from class in the arrays below.\n",
    "\n",
    "<!--\n",
    "BEGIN QUESTION\n",
    "name: q1.2\n",
    "-->"
   ]
  },
  {
   "cell_type": "code",
   "execution_count": 2,
   "metadata": {},
   "outputs": [],
   "source": [
    "#Enter the Distance Vector (ft)\n",
    "x = np.array([0, 5, 10, 15, 20, 25, 30, 35, 40, 45, 50, 60, 65, 70, 75, 80, 90, 95, 100, 105, 110, 115, 120, 125, 130])\n",
    "\n",
    "#Enter the Measured Arrival Times for forward line (milliseconds) as np.array\n",
    "# t1 = np.array([0, 4.4, 9.1, 12.8, 15.6, 19.9, 24.2, 28.7, 32.7, 34.4, 33.5, 33.9, 33.8, 34.5, 36.6, 36.8, 36.9, 37.9, 38.5, 39.0, 40.0, 41.8, 42.1, 42.6, 43.0]) # SOLUTION\n",
    "t1 = ...\n",
    "\n",
    "#Enter the Measured Arrival Times (increasing) for reverse line (milliseconds) as np.array\n",
    "# t2 = np.array([0, 3.7, 5.5, 8.2, 11.0, 13.4, 14.2, 15.5, 17.9, 19.0, 20.7, 22.0, 24.4, 26.3, 29.3, 32.2, 33.9, 36.9, 38.9, 39.8, 40.6, 40.61, 41.9, 42.1, 43.5]) # SOLUTION\n",
    "t2 = ...\n"
   ]
  },
  {
   "cell_type": "code",
   "execution_count": null,
   "metadata": {
    "deletable": false,
    "editable": false
   },
   "outputs": [],
   "source": [
    "grader.check(\"q1.2\")"
   ]
  },
  {
   "cell_type": "markdown",
   "metadata": {
    "deletable": false,
    "editable": false
   },
   "source": [
    "#### Question 1.3\n",
    "Estimate the apparent velocities for the direct and head waves **in ft/s** from the forward and reverse shots. Note that the direct velocities should approximately match. You might be surprised by how many (or few) arrivals belong to the direct wave.\n",
    "\n",
    "<!--\n",
    "BEGIN QUESTION\n",
    "name: q1.3\n",
    "-->"
   ]
  },
  {
   "cell_type": "code",
   "execution_count": 4,
   "metadata": {},
   "outputs": [],
   "source": [
    "# Forward line (Fig. 3) \n",
    "v_direct_forward = ...\n",
    "v_head_forward = ...\n",
    "\n",
    "# Reverse line (Fig. 4)\n",
    "v_direct_reverse = ...\n",
    "v_head_reverse = ..."
   ]
  },
  {
   "cell_type": "code",
   "execution_count": null,
   "metadata": {
    "deletable": false,
    "editable": false
   },
   "outputs": [],
   "source": [
    "grader.check(\"q1.3\")"
   ]
  },
  {
   "cell_type": "markdown",
   "metadata": {},
   "source": [
    "### Exercise 2: Dipping Layers\n",
    "The arrivals for the two off end shots (Figures 3 & 4) are not symmetric. We learned in lecture that this indicates a dipping layer. Figure 6 gives the geometry and equations for the two-layer problem. These equations are translated to python code in the cells below.\n",
    "\n",
    "Note: $T$ are the intercept times. $i$ are the angle of incidence, $\\alpha$ is the dip of the layer, and $V_0$, $V_{1d}$, $V_{1u}$, and $V_1$ are the velocities of the upper layer (average from all three profiles), the down dip apparent velocity of the deeper layer, the up dip apparent velocity of the deeper layer, and the actual velocity of the deeper layer. The down dip apparent velocity, $V_{1d}$, is less than the up dip apparent velocity of the refractor."
   ]
  },
  {
   "cell_type": "markdown",
   "metadata": {},
   "source": [
    "<img src='fig6.jpg'>"
   ]
  },
  {
   "cell_type": "code",
   "execution_count": 6,
   "metadata": {},
   "outputs": [],
   "source": [
    "# review but don't edit this function\n",
    "def seisrefract(x,t,fr,w,c):\n",
    "    '''\n",
    "    Program to compute and plot model velocities from array geometry traveltime picks.\n",
    "    \n",
    "    Inputs:\n",
    "      x  : distance vector in feet [np.array]\n",
    "      t  : measured arrival time picks in seconds [np.array]\n",
    "      fr : 1=forward; 0=reverse designation of line [int]\n",
    "      w  : velocity model layer designation [np.array] \n",
    "                1 = velocity1 in the velocity model, 2 = velocity2, etc.\n",
    "                0 = station not used\n",
    "      c  : color of line to plot [str]\n",
    "      \n",
    "    Outputs:\n",
    "      t0 : intercept times\n",
    "      p  : slopes (slownesses)\n",
    "      errors: fit errors for all stations used in seconds\n",
    "      \n",
    "    '''\n",
    "    \n",
    "    # set some initial startup variables\n",
    "    numline = max(w) # determine how many slopes to fit\n",
    "    zero = np.where(w==0)[0] # find excluded points\n",
    "    zflag = len(zero) # count excluded points\n",
    "    t0 = []\n",
    "    p = []\n",
    "    errors = []\n",
    "    \n",
    "    # prepare full [1 x] matrix for regression\n",
    "    tmp = np.ones(np.size(x))\n",
    "    X = np.column_stack([tmp.T, x.T])\n",
    "    \n",
    "    # for-loop over each velocity in the model\n",
    "    for J in np.arange(1, numline+1, 1):\n",
    "        \n",
    "        # Find Values to use in regressions\n",
    "        k = np.where(w==J)[0] # find points for this velocity layer\n",
    "\n",
    "        # Least-squares solution because matrix is non-square\n",
    "        # solves for intercept and slope of linear fit to currently selected arrivals\n",
    "        a = np.linalg.lstsq(X[k], t[k].T, rcond=None)[0]\n",
    "        t0.append(a[0]) # save intercept time\n",
    "        p.append(a[1]) # save slope\n",
    "        linex_J = x[k] # take x points for fit line\n",
    "        linet_J = np.sum(a*X[k],axis=1) # calculate fit line by summing t0 + p*x for each point\n",
    "        errors.extend(list(linet_J - t[k])) # store errors for final RMSE calculation\n",
    "\n",
    "        # Plotting\n",
    "        if fr == 1:\n",
    "            # forward line has earliest arrivals at shortest distances, no plot adjustment\n",
    "            plt.plot(linex_J,linet_J,'-',color=c)\n",
    "            plt.plot(x,t,'o',color=c,markerfacecolor='w',markersize=10)\n",
    "        elif fr == 0:\n",
    "            # reverse line has earlisest arrivals at longest distances, need to flip plot\n",
    "            plt.plot(max(x)-linex_J,linet_J,'-',color=c)\n",
    "            plt.plot(abs(x-max(x)),t,'o',color=c,markerfacecolor='w',markersize=10)\n",
    "    \n",
    "    # Remaining Plotting\n",
    "    # X-out the measurements not assigned to a velocity model (and not used in the inversion)\n",
    "    if(zflag > 0):\n",
    "        if fr ==1:\n",
    "            plt.plot(x[zero],t[zero],marker='+',lw=0,color='k')\n",
    "        elif fr ==0:\n",
    "            plt.plot(abs(x[zero]-max(x)),t[zero],marker='+',lw=0,color='k')\n",
    "            \n",
    "    # Add labels\n",
    "    plt.title('Traveltime Plot',fontsize=20)\n",
    "    plt.xlabel('Distance (ft)',fontsize=18)\n",
    "    plt.ylabel('Time (sec)',fontsize=18)\n",
    "    plt.tight_layout()\n",
    "    \n",
    "    return t0, p, errors"
   ]
  },
  {
   "cell_type": "markdown",
   "metadata": {
    "deletable": false,
    "editable": false
   },
   "source": [
    "<!-- BEGIN QUESTION -->\n",
    "\n",
    "#### Question 2.1\n",
    "Using the arrival times tabulated in class for the forward and reverse off-end shots, perform an inversion for the plane-layered velocity model with one dipping layer (two layers total). Copy the time arrays you entered in Question 1.2 below for clarity. Fill in the w1 and w2 arrays by assigning the each arrival time in t1 and t2 to either the upper (1) or lower/dipping (2) layer. A plausible choice for w1 is given as an example but feel free to adjust it. You can exclude an arrival you consider an outlier by assigning it a 0 in the appropriate w-array spot.\n",
    "\n",
    "Use all three of the following cells to fit and plot slopes, solve and plot the layer model, and view tabulated results.\n",
    "\n",
    "<!--\n",
    "BEGIN QUESTION\n",
    "name: q2.1\n",
    "manual: true\n",
    "-->"
   ]
  },
  {
   "cell_type": "code",
   "execution_count": 7,
   "metadata": {
    "scrolled": false
   },
   "outputs": [],
   "source": [
    "# Enter the Distance Vector (ft)\n",
    "x= np.array([0, 5, 10, 15, 20, 25, 30, 35, 40, 45, 50, 60, 65, 70, 75, 80, 90, 95, 100, 105, 110, 115, 120, 125, 130])\n",
    "\n",
    "# Re-enter the Measured Arrival Times for forward line (milliseconds) as np.array\n",
    "t1 = ...\n",
    "\n",
    "# Re-enter the Measured Arrival Times (increasing) for reverse line (milliseconds) as np.array\n",
    "t2 = ...\n",
    "\n",
    "# Entered measurements above should be in units of (milliseconds), but we need sec. Multiply by this factor...\n",
    "timebase=0.001; \n",
    "t1 = timebase*t1\n",
    "t2 = timebase*t2\n",
    "\n",
    "# Enter the curve designator for forward line\n",
    "# Note: len(w1) == len(t1)\n",
    "w1=np.array([1, 1, 1, 1, 1, 1, 1, 1, 1, 1, 2, 2, 2, 2, 2, 2, 2, 2, 2, 2, 2, 2, 2, 2, 2])\n",
    "\n",
    "# Enter the curve designator for reverse line\n",
    "# Note: The first layer slopes should match, as in Fig. 6\n",
    "#       Recall how many/few points fit the direct arrival in Question 1.3\n",
    "w2= ...\n",
    "\n",
    "# Execute seisrefract for forward and reverse parameters\n",
    "plt.figure(figsize=(8,8))\n",
    "t01,p1,e1 = seisrefract(x,t1,1,w1,'blue')\n",
    "t02,p2,e2 = seisrefract(x,t2,0,w2,'red')\n",
    "\n",
    "# Calculate total RMSE\n",
    "RMSE = np.sqrt(np.sum(np.concatenate([e1,e2])**2))\n",
    "print(f'RMSE: {RMSE*1000:.1f} ms')"
   ]
  },
  {
   "cell_type": "markdown",
   "metadata": {
    "deletable": false,
    "editable": false
   },
   "source": [
    "<!-- END QUESTION -->"
   ]
  },
  {
   "cell_type": "code",
   "execution_count": 8,
   "metadata": {
    "scrolled": false
   },
   "outputs": [],
   "source": [
    "# Combine seisrefract results from forward and reverse lines to \n",
    "#   interpret and plot the dipping layer(s) model\n",
    "\n",
    "numline=np.max(w1)\n",
    "m=np.size(x)\n",
    "V0=(1/p1[0] + 1/p2[0])/2; # Find average upper velocity\n",
    "V0a=1/p1[0]; # Check forward upper velocity\n",
    "V0b=1/p2[0]; # and reverse upper velocity, ideally they match\n",
    "T0a=t01[0]; # First layer intercepts should be ~0\n",
    "T0b=t02[0];\n",
    "V1a=1/p1[1]; # Forward apparent velocity of head wave\n",
    "V1b=1/p2[1]; # Reverse \"\n",
    "T1a=t01[1]; # Forward intercept time\n",
    "T1b=t02[1]; # Reverse \"\n",
    "\n",
    "# V1b < V1a, so we use V1b = V1d and V1a = V1u for the Eqs. above\n",
    "i1=0.5*(np.arcsin(V0/V1b)+np.arcsin(V0/V1a)); # critical angle\n",
    "o1=0.5*(np.arcsin(V0/V1b)-np.arcsin(V0/V1a)); # angle of dipping layer\n",
    "\n",
    "V1=V0/np.sin(i1); # lower layer velocity\n",
    "\n",
    "# Calculate depth to dipping layer at each end\n",
    "z1a=V0*T1a/(2*np.cos(i1)); \n",
    "z1b=V0*T1b/(2*np.cos(i1));\n",
    "h1a=z1a/np.cos(o1);\n",
    "h1b=z1b/np.cos(o1);\n",
    "    \n",
    "fig,ax = plt.subplots(1,1,figsize=(8,8))\n",
    "\n",
    "# Add labels\n",
    "plt.title('Velocity Cross Section',fontsize=20)\n",
    "plt.xlabel('distance (ft)',fontsize=18)\n",
    "plt.ylabel('depth (ft)',fontsize=18)\n",
    "plt.tight_layout()\n",
    "\n",
    "dx = 5\n",
    "xx=np.arange(x[0], x[len(x)-1]+dx, dx);\n",
    "yy=np.linspace(h1a, h1b, len(xx));\n",
    "plt.plot(xx,yy,'m')\n",
    "ax.text((x[m-1]-x[1])/2,h1a/2,'%.02f ft/sec' % V0,fontsize=20)\n",
    "ax.text((x[m-1]-x[1])/2,(h1a+h1b)/2+15,'%.02f ft/sec' % V1,fontsize=20)\n",
    "\n",
    "plt.ylim([max(yy)*3,0])\n",
    "plt.xlim([0,max(x)])"
   ]
  },
  {
   "cell_type": "code",
   "execution_count": 9,
   "metadata": {},
   "outputs": [],
   "source": [
    "#Write results to screen\n",
    "print('V0a = %.0f  T0a = %f  V0b = %.0f  T0b = %f\\n' % (V0a,T0a,V0b,T0b))\n",
    "print('V1a=%.0f  T1a=%f  V1b=%.0f  T1b=%f\\n' % (V1a,T1a,V1b,T1b))\n",
    "print('Fit = %.1f ms' % (RMSE*1000))\n",
    "print('\\n\\n')\n",
    "print('Depth(ft)    Depth(ft)     Velocity(ft/sec)\\n')\n",
    "print('   0            0             %.0f\\n' % (V0))\n",
    "print('  %.1f         %.1f            %.0f\\n' % (h1a, h1b, V1))"
   ]
  },
  {
   "cell_type": "markdown",
   "metadata": {},
   "source": [
    "**SOLUTION NO PROMPT**: check model"
   ]
  },
  {
   "cell_type": "markdown",
   "metadata": {
    "deletable": false,
    "editable": false
   },
   "source": [
    "<!-- BEGIN QUESTION -->\n",
    "\n",
    "#### Question 2.2\n",
    "Now consider a model with two dipping (three total) layers by changing some of the last points in each w-array to 3s.\n",
    "\n",
    "<!--\n",
    "BEGIN QUESTION\n",
    "name: q2.2\n",
    "manual: true\n",
    "-->"
   ]
  },
  {
   "cell_type": "code",
   "execution_count": 10,
   "metadata": {
    "scrolled": false
   },
   "outputs": [],
   "source": [
    "# Enter the Distance Vector (ft)\n",
    "x= np.array([0, 5, 10, 15, 20, 25, 30, 35, 40, 45, 50, 60, 65, 70, 75, 80, 90, 95, 100, 105, 110, 115, 120, 125, 130])\n",
    "\n",
    "# Enter the Measured Arrival Times for forward line (milliseconds) as np.array\n",
    "t1 = ...\n",
    "\n",
    "# Re-enter the Measured Arrival Times (increasing) for reverse line (milliseconds) as np.array\n",
    "t2 = ...\n",
    "\n",
    "# Entered measurements above should be in units of (milliseconds), but we need sec. Multiply by this factor...\n",
    "timebase=0.001; \n",
    "t1 = timebase*t1\n",
    "t2 = timebase*t2\n",
    "\n",
    "# Enter the curve designator for forward line\n",
    "# Note: len(w1) == len(t1)\n",
    "w1= ...\n",
    "\n",
    "# Enter the curve designator for reverse line\n",
    "# Note: The first layer slopes should match, as in Fig. 6\n",
    "#       Recall how many/few points fit the direct arrival in Question 1.3\n",
    "w2= ...\n",
    "\n",
    "# Execute seisrefract for forward and reverse parameters\n",
    "plt.figure(figsize=(8,8))\n",
    "t01,p1,e1 = seisrefract(x,t1,1,w1,'blue')\n",
    "t02,p2,e2 = seisrefract(x,t2,0,w2,'red')\n",
    "\n",
    "# Calculate total RMSE\n",
    "RMSE = np.sqrt(np.sum(np.concatenate([e1,e2])**2))\n",
    "print(f'RMSE: {RMSE*1000:.1f} ms')"
   ]
  },
  {
   "cell_type": "markdown",
   "metadata": {
    "deletable": false,
    "editable": false
   },
   "source": [
    "<!-- END QUESTION -->"
   ]
  },
  {
   "cell_type": "code",
   "execution_count": 11,
   "metadata": {
    "scrolled": false
   },
   "outputs": [],
   "source": [
    "# Combine seisrefract results from forward and reverse lines to \n",
    "#   interpret and plot the dipping layer(s) model\n",
    "\n",
    "numline=np.max(w1)\n",
    "m=np.size(x)\n",
    "V0=(1/p1[0] + 1/p2[0])/2; # Find average upper velocity\n",
    "V0a=1/p1[0]; # Check forward upper velocity\n",
    "V0b=1/p2[0]; # and reverse upper velocity, ideally they match\n",
    "T0a=t01[0]; # First layer intercepts should be ~0\n",
    "T0b=t02[0];\n",
    "V1a=1/p1[1]; # Forward apparent velocity of head wave\n",
    "V1b=1/p2[1]; # Reverse \"\n",
    "T1a=t01[1]; # Forward intercept time\n",
    "T1b=t02[1]; # Reverse \"\n",
    "\n",
    "# V1b < V1a, so we use V1b = V1d and V1a = V1u for the Eqs. above\n",
    "i1=0.5*(np.arcsin(V0/V1b)+np.arcsin(V0/V1a)); # critical angle\n",
    "o1=0.5*(np.arcsin(V0/V1b)-np.arcsin(V0/V1a)); # angle of dipping layer\n",
    "\n",
    "V1=V0/np.sin(i1); # lower layer velocity\n",
    "\n",
    "# Calculate depth to dipping layer at each end\n",
    "z1a=V0*T1a/(2*np.cos(i1)); \n",
    "z1b=V0*T1b/(2*np.cos(i1));\n",
    "h1a=z1a/np.cos(o1);\n",
    "h1b=z1b/np.cos(o1);\n",
    "\n",
    "#add Next Layer if using a 3-layer velocity model\n",
    "if(numline == 3):\n",
    "\n",
    "    V2a=1/p1[2];\n",
    "    V2b=1/p2[2];\n",
    "    T2a=t01[2];\n",
    "    T2b=t02[2];\n",
    "\n",
    "    b21=np.arcsin(V0/V2a)+o1;\n",
    "    a21=np.arcsin(V0/V2b)-o1;\n",
    "    g21=np.arcsin(V1/V0*np.sin(a21));\n",
    "    d21=np.arcsin(V1/V0*np.sin(b21));\n",
    "    i2=(g21+d21)/2;\n",
    "    o2=(g21-d21)/2 - o1;\n",
    "    V2=V1/np.sin(i2);\n",
    "\n",
    "    z2a=V1*(T2a-z1a/V0*(np.cos(a21+b21)+1)/np.cos(a21))/2/np.cos(i2);\n",
    "    z2b=V1*(T2b-z1b/V0*(np.cos(a21+b21)+1)/np.cos(b21))/2/np.cos(i2);\n",
    "\n",
    "    h2a=1/np.cos(o2)*(z1a*np.cos(a21-o2+o1)/np.cos(a21)+z2a);\n",
    "    h2b=1/np.cos(o2)*(z1b*np.cos(b21+o2-o1)/np.cos(b21)+z2b);\n",
    "    \n",
    "fig,ax = plt.subplots(1,1,figsize=(8,8))\n",
    "\n",
    "# Add labels\n",
    "plt.title('Velocity Cross Section',fontsize=20)\n",
    "plt.xlabel('distance (ft)',fontsize=18)\n",
    "plt.ylabel('depth (ft)',fontsize=18)\n",
    "plt.tight_layout()\n",
    "\n",
    "dx = 5\n",
    "xx=np.arange(x[0], x[len(x)-1]+dx, dx);\n",
    "yy=np.linspace(h1a, h1b, len(xx));\n",
    "plt.plot(xx,yy,'m')\n",
    "ax.text((x[m-1]-x[1])/2,h1a/2,'%.02f ft/sec' % V0,fontsize=20)\n",
    "ax.text((x[m-1]-x[1])/2,(h1a+h1b)/2+15,'%.02f ft/sec' % V1,fontsize=20)\n",
    "\n",
    "if(numline == 3):\n",
    "    yy=np.linspace(h2a, h2b, len(xx));\n",
    "    plt.plot(xx,yy,'b')\n",
    "    ax.text((x[m-1]-x[2])/2,(h2a+h2b)/2+15,'%.02f ft/sec' % V2,fontsize=20)\n",
    "\n",
    "plt.ylim([max(yy)*3,0])\n",
    "plt.xlim([0,max(x)])"
   ]
  },
  {
   "cell_type": "code",
   "execution_count": 12,
   "metadata": {
    "scrolled": true
   },
   "outputs": [],
   "source": [
    "#Write results to screen\n",
    "print('V0a = %.0f  T0a = %f  V0b = %.0f  T0b = %f\\n' % (V0a,T0a,V0b,T0b))\n",
    "print('V1a=%.0f  T1a=%f  V1b=%.0f  T1b=%f\\n' % (V1a,T1a,V1b,T1b))\n",
    "if (numline == 3):\n",
    "    print('V2a=%.0f  T2a=%f  V2b=%.0f  T2b=%f\\n' % (V2a,T2a,V2b,T2b))\n",
    "print('Fit = %.1f ms' % (RMSE*1000))\n",
    "print('\\n\\n')\n",
    "print('Depth(ft)    Depth(ft)     Velocity(ft/sec)\\n')\n",
    "print('   0            0             %.0f\\n' % (V0))\n",
    "print('  %.1f         %.1f            %.0f\\n' % (h1a, h1b, V1))\n",
    "if(numline == 3):\n",
    "    print('  %.1f         %.1f          %.0f\\n' % (h2a, h2b, V2))"
   ]
  },
  {
   "cell_type": "markdown",
   "metadata": {},
   "source": [
    "**SOLUTION NO PROMPT**: check model"
   ]
  },
  {
   "cell_type": "markdown",
   "metadata": {},
   "source": [
    "### Exercise 3: Using Center Shot\n",
    "Using the center shot it is possible to break the array into two parts to see if there is non-planar structure. In other words it is possible to perform the analysis using the southern shot and the south-arm of the center shot, and the northern shot, and the north-arm of the center shot separately.\n",
    "\n",
    "<img src='fig5_grid.png'>"
   ]
  },
  {
   "cell_type": "markdown",
   "metadata": {
    "deletable": false,
    "editable": false
   },
   "source": [
    "#### Question 3.1\n",
    "Pick and enter the arrival times for the center shot. We're divinding the array into a South (left) half and a North (right) half, as labeled.\n",
    "\n",
    "<!--\n",
    "BEGIN QUESTION\n",
    "name: q3.1\n",
    "-->"
   ]
  },
  {
   "cell_type": "code",
   "execution_count": 13,
   "metadata": {},
   "outputs": [],
   "source": [
    "# All arrays are now half as long\n",
    "x = np.array([0, 2.5, 5, 10, 15, 20, 25, 30, 35, 40, 45, 50, 55])\n",
    "\n",
    "# South array in milliseconds\n",
    "tS = ...\n",
    "\n",
    "# Nort array in milliseconds\n",
    "tN = ...\n",
    "# tester below will just check array length\n",
    "\n",
    "# convert to seconds\n",
    "timebase=0.001; \n",
    "tS = timebase*tS\n",
    "tN = timebase*tN"
   ]
  },
  {
   "cell_type": "code",
   "execution_count": null,
   "metadata": {
    "deletable": false,
    "editable": false
   },
   "outputs": [],
   "source": [
    "grader.check(\"q3.1\")"
   ]
  },
  {
   "cell_type": "markdown",
   "metadata": {
    "deletable": false,
    "editable": false
   },
   "source": [
    "<!-- BEGIN QUESTION -->\n",
    "\n",
    "#### Question 3.2\n",
    "Analyze the South half of the array using a single dipping layer.\n",
    "\n",
    "<!--\n",
    "BEGIN QUESTION\n",
    "name: q3.2\n",
    "manual: true\n",
    "-->"
   ]
  },
  {
   "cell_type": "code",
   "execution_count": 15,
   "metadata": {
    "scrolled": false
   },
   "outputs": [],
   "source": [
    "# South array: South half of Fig. 3 is the forward shot, tS is the reverse shot\n",
    "# Enter the curve designator for forward line (t1)\n",
    "# Note: len(w1S) == len(tS)\n",
    "w1S= ...\n",
    "\n",
    "# Enter the curve designator for reverse line (tS)\n",
    "w2S= ...\n",
    "\n",
    "# Execute seisrefract for forward and reverse parameters\n",
    "plt.figure(figsize=(8,8))\n",
    "t01S,p1S,e1S = seisrefract(x,t1[:13],1,w1S,'blue')\n",
    "t02S,p2S,e2S = seisrefract(x,tS,0,w2S,'red')\n",
    "plt.title('Traveltime Plot: South Half-Array', fontsize=20);\n",
    "\n",
    "# Calculate total RMSE\n",
    "RMSE_S = np.sqrt(np.sum(np.concatenate([e1S,e2S])**2))\n",
    "print(f'RMSE: {RMSE_S*1000:.1f} ms')"
   ]
  },
  {
   "cell_type": "markdown",
   "metadata": {
    "deletable": false,
    "editable": false
   },
   "source": [
    "<!-- END QUESTION -->"
   ]
  },
  {
   "cell_type": "code",
   "execution_count": 16,
   "metadata": {
    "scrolled": false
   },
   "outputs": [],
   "source": [
    "# Combine seisrefract results from forward and reverse lines to \n",
    "#   interpret and plot the dipping layer(s) model\n",
    "\n",
    "numline=np.max(w1S)\n",
    "m=np.size(x)\n",
    "V0=(1/p1S[0] + 1/p2S[0])/2; # Find average upper velocity\n",
    "V0a=1/p1S[0]; # Check forward upper velocity\n",
    "V0b=1/p2S[0]; # and reverse upper velocity, ideally they match\n",
    "T0a=t01S[0]; # First layer intercepts should be ~0\n",
    "T0b=t02S[0];\n",
    "V1a=1/p1S[1]; # Forward apparent velocity of head wave\n",
    "V1b=1/p2S[1]; # Reverse \"\n",
    "T1a=t01S[1]; # Forward intercept time\n",
    "T1b=t02S[1]; # Reverse \"\n",
    "\n",
    "# V1b < V1a, so we use V1b = V1d and V1a = V1u for the Eqs. above\n",
    "i1=0.5*(np.arcsin(V0/V1b)+np.arcsin(V0/V1a)); # critical angle\n",
    "o1=0.5*(np.arcsin(V0/V1b)-np.arcsin(V0/V1a)); # angle of dipping layer\n",
    "\n",
    "V1=V0/np.sin(i1); # lower layer velocity\n",
    "\n",
    "# Calculate depth to dipping layer at each end\n",
    "z1a=V0*T1a/(2*np.cos(i1)); \n",
    "z1b=V0*T1b/(2*np.cos(i1));\n",
    "h1a=z1a/np.cos(o1);\n",
    "h1b=z1b/np.cos(o1);\n",
    "    \n",
    "fig,ax = plt.subplots(1,1,figsize=(8,8))\n",
    "\n",
    "# Add labels\n",
    "plt.title('Velocity Cross Section: South',fontsize=20)\n",
    "plt.xlabel('distance (ft)',fontsize=18)\n",
    "plt.ylabel('depth (ft)',fontsize=18)\n",
    "plt.tight_layout()\n",
    "\n",
    "dx = 5\n",
    "xx_S=np.arange(x[0], x[len(x)-1]+dx, dx);\n",
    "yy_S=np.linspace(h1a, h1b, len(xx_S));\n",
    "plt.plot(xx_S,yy_S,'m')\n",
    "ax.text((x[m-1]-x[1])/2,h1a/2,'%.02f ft/sec' % V0,fontsize=20)\n",
    "ax.text((x[m-1]-x[1])/2,(h1a+h1b)/2+15,'%.02f ft/sec' % V1,fontsize=20)\n",
    "\n",
    "plt.ylim([max(yy_S)*3,0])\n",
    "plt.xlim([0,max(x)])"
   ]
  },
  {
   "cell_type": "code",
   "execution_count": 17,
   "metadata": {},
   "outputs": [],
   "source": [
    "#Write results to screen\n",
    "print('V0a = %.0f  T0a = %f  V0b = %.0f  T0b = %f\\n' % (V0a,T0a,V0b,T0b))\n",
    "print('V1a=%.0f  T1a=%f  V1b=%.0f  T1b=%f\\n' % (V1a,T1a,V1b,T1b))\n",
    "print('Fit = %.1f ms' % (RMSE_S*1000))\n",
    "print('\\n\\n')\n",
    "print('Depth(ft)    Depth(ft)     Velocity(ft/sec)\\n')\n",
    "print('   0            0             %.0f\\n' % (V0))\n",
    "print('  %.1f         %.1f            %.0f\\n' % (h1a, h1b, V1))"
   ]
  },
  {
   "cell_type": "markdown",
   "metadata": {},
   "source": [
    "**SOLUTION NO PROMPT**: check model"
   ]
  },
  {
   "cell_type": "markdown",
   "metadata": {
    "deletable": false,
    "editable": false
   },
   "source": [
    "<!-- BEGIN QUESTION -->\n",
    "\n",
    "#### Question 3.3\n",
    "Analyze the North half of the array using a single dipping layer.\n",
    "\n",
    "<!--\n",
    "BEGIN QUESTION\n",
    "name: q3.3\n",
    "manual: true\n",
    "-->"
   ]
  },
  {
   "cell_type": "code",
   "execution_count": 18,
   "metadata": {
    "scrolled": false
   },
   "outputs": [],
   "source": [
    "# North array: tN is the forward shot, North half of Fig. 4 is the reverse shot\n",
    "# Enter the curve designator for forward line (tN)\n",
    "# Note: len(w1N) == len(tN)\n",
    "w1N= ...\n",
    "\n",
    "# Enter the curve designator for reverse line (t2)\n",
    "w2N= ...\n",
    "\n",
    "# Execute seisrefract for forward and reverse parameters\n",
    "plt.figure(figsize=(8,8))\n",
    "t01N,p1N,e1N = seisrefract(x,tN,1,w1N,'blue')\n",
    "t02N,p2N,e2N = seisrefract(x,t2[:13],0,w2N,'red')\n",
    "plt.title('Traveltime Plot: North Half-Array', fontsize=20);\n",
    "\n",
    "# Calculate total RMSE\n",
    "RMSE_N = np.sqrt(np.sum(np.concatenate([e1N,e2N])**2))\n",
    "print(f'RMSE: {RMSE_N*1000:.1f} ms')"
   ]
  },
  {
   "cell_type": "markdown",
   "metadata": {
    "deletable": false,
    "editable": false
   },
   "source": [
    "<!-- END QUESTION -->"
   ]
  },
  {
   "cell_type": "code",
   "execution_count": 19,
   "metadata": {
    "scrolled": false
   },
   "outputs": [],
   "source": [
    "# Combine seisrefract results from forward and reverse lines to \n",
    "#   interpret and plot the dipping layer(s) model\n",
    "\n",
    "numline=np.max(w1N)\n",
    "m=np.size(x)\n",
    "V0=(1/p1N[0] + 1/p2N[0])/2; # Find average upper velocity\n",
    "V0a=1/p1N[0]; # Check forward upper velocity\n",
    "V0b=1/p2N[0]; # and reverse upper velocity, ideally they match\n",
    "T0a=t01N[0]; # First layer intercepts should be ~0\n",
    "T0b=t02N[0];\n",
    "V1a=1/p1N[1]; # Forward apparent velocity of head wave\n",
    "V1b=1/p2N[1]; # Reverse \"\n",
    "T1a=t01N[1]; # Forward intercept time\n",
    "T1b=t02N[1]; # Reverse \"\n",
    "\n",
    "# V1b < V1a, so we use V1b = V1d and V1a = V1u for the Eqs. above\n",
    "i1=0.5*(np.arcsin(V0/V1b)+np.arcsin(V0/V1a)); # critical angle\n",
    "o1=0.5*(np.arcsin(V0/V1b)-np.arcsin(V0/V1a)); # angle of dipping layer\n",
    "\n",
    "V1=V0/np.sin(i1); # lower layer velocity\n",
    "\n",
    "# Calculate depth to dipping layer at each end\n",
    "z1a=V0*T1a/(2*np.cos(i1)); \n",
    "z1b=V0*T1b/(2*np.cos(i1));\n",
    "h1a=z1a/np.cos(o1);\n",
    "h1b=z1b/np.cos(o1);\n",
    "    \n",
    "fig,ax = plt.subplots(1,1,figsize=(8,8))\n",
    "\n",
    "# Add labels\n",
    "plt.title('Velocity Cross Section: North',fontsize=20)\n",
    "plt.xlabel('distance (ft)',fontsize=18)\n",
    "plt.ylabel('depth (ft)',fontsize=18)\n",
    "plt.tight_layout()\n",
    "\n",
    "dx = 5\n",
    "xx_N=np.arange(x[0], x[len(x)-1]+dx, dx);\n",
    "yy_N=np.linspace(h1a, h1b, len(xx_N));\n",
    "plt.plot(xx_N,yy_N,'m')\n",
    "ax.text((x[m-1]-x[1])/2,h1a/2,'%.02f ft/sec' % V0,fontsize=20)\n",
    "ax.text((x[m-1]-x[1])/2,(h1a+h1b)/2+3,'%.02f ft/sec' % V1,fontsize=20)\n",
    "\n",
    "plt.ylim([max(yy_N)*3,0])\n",
    "plt.xlim([0,max(x)])"
   ]
  },
  {
   "cell_type": "code",
   "execution_count": 20,
   "metadata": {
    "scrolled": true
   },
   "outputs": [],
   "source": [
    "#Write results to screen\n",
    "print('V0a = %.0f  T0a = %f  V0b = %.0f  T0b = %f\\n' % (V0a,T0a,V0b,T0b))\n",
    "print('V1a=%.0f  T1a=%f  V1b=%.0f  T1b=%f\\n' % (V1a,T1a,V1b,T1b))\n",
    "print('Fit = %.1f ms' % (RMSE_N*1000))\n",
    "print('\\n\\n')\n",
    "print('Depth(ft)    Depth(ft)     Velocity(ft/sec)\\n')\n",
    "print('   0            0             %.0f\\n' % (V0))\n",
    "print('  %.1f         %.1f            %.0f\\n' % (h1a, h1b, V1))"
   ]
  },
  {
   "cell_type": "markdown",
   "metadata": {},
   "source": [
    "**SOLUTION NO PROMPT**: check model"
   ]
  },
  {
   "cell_type": "code",
   "execution_count": 21,
   "metadata": {},
   "outputs": [],
   "source": [
    "# Plot non-planar velocity model\n",
    "fig,ax = plt.subplots(1,1,figsize=(8,8))\n",
    "\n",
    "# Add labels\n",
    "plt.title('Velocity Cross Section: Combined',fontsize=20)\n",
    "plt.xlabel('distance (ft)',fontsize=18)\n",
    "plt.ylabel('depth (ft)',fontsize=18)\n",
    "plt.tight_layout()\n",
    "\n",
    "plt.plot(xx_S,yy_S,'m')\n",
    "plt.plot(xx_N+xx_S[-1],yy_N,'m')\n",
    "# ax.text((x[m-1]-x[1])/2,h1a/2,'%.02f ft/sec' % V0,fontsize=20)\n",
    "# ax.text((x[m-1]-x[1])/2,(h1a+h1b)/2+3,'%.02f ft/sec' % V1,fontsize=20)\n",
    "\n",
    "plt.ylim([max(yy_S)*3,0])\n",
    "plt.xlim([0,2*xx_S[-1]])\n",
    "\n",
    "# total RMSE\n",
    "print(f'RMSE South half: {RMSE_S*1000:.1f} ms')\n",
    "print(f'RMSE North half: {RMSE_N*1000:.1f} ms')\n",
    "RMSE = np.sqrt(np.sum(np.concatenate([e1N,e2N,e1S,e2S])**2))\n",
    "print(f'RMSE combined: {RMSE*1000:.1f} ms')"
   ]
  },
  {
   "cell_type": "markdown",
   "metadata": {},
   "source": [
    "### Exercise 4: Interpretation"
   ]
  },
  {
   "cell_type": "markdown",
   "metadata": {
    "deletable": false,
    "editable": false
   },
   "source": [
    "<!-- BEGIN QUESTION -->\n",
    "\n",
    "#### Question 4.1\n",
    "Do the results of your center-shot analysis indicate a non-planar structure? What conclusions can you draw about the subsurface structure? Describe your observations of any deviation from the assumed plane-dipping model (straight line fit to the observations). What further information/analysis would help increase your ability to describe the structure?\n",
    "\n",
    "<!--\n",
    "BEGIN QUESTION\n",
    "name: q4.1\n",
    "manual: true\n",
    "-->"
   ]
  },
  {
   "cell_type": "markdown",
   "metadata": {},
   "source": [
    "_Type your answer here, replacing this text._"
   ]
  },
  {
   "cell_type": "markdown",
   "metadata": {
    "deletable": false,
    "editable": false
   },
   "source": [
    "<!-- END QUESTION -->\n",
    "\n",
    "<!-- BEGIN QUESTION -->\n",
    "\n",
    "#### Question 4.2\n",
    "The traveltime measurements have uncertainties that propagate to the model parameter results. How robust are the results (velocities, angles, depths) to the timing uncertainty? You can answer this question qualitatively. Play around with the times and layer assignments a bit and describe what you find.\n",
    "\n",
    "<!--\n",
    "BEGIN QUESTION\n",
    "name: q4.2\n",
    "manual: true\n",
    "-->"
   ]
  },
  {
   "cell_type": "markdown",
   "metadata": {},
   "source": [
    "_Type your answer here, replacing this text._"
   ]
  },
  {
   "cell_type": "markdown",
   "metadata": {
    "deletable": false,
    "editable": false
   },
   "source": [
    "<!-- END QUESTION -->\n",
    "\n",
    "<!-- BEGIN QUESTION -->\n",
    "\n",
    "#### Question 4.3\n",
    "What materials might be present in the layers you identified? You can search online for the seismic velocities of common earth materials. Careful with units!\n",
    "\n",
    "<!--\n",
    "BEGIN QUESTION\n",
    "name: q4.3\n",
    "manual: true\n",
    "-->"
   ]
  },
  {
   "cell_type": "markdown",
   "metadata": {},
   "source": [
    "_Type your answer here, replacing this text._"
   ]
  },
  {
   "cell_type": "markdown",
   "metadata": {},
   "source": [
    "<!-- END QUESTION -->\n",
    "\n",
    "\n",
    "\n",
    "# Submission\n",
    "\n",
    "You should see two options for submission: The `eps130_export` and the `grader.export()` cells. Use whichever works for you. If all else fails, print to pdf from your browser.\n",
    "\n",
    "Make sure you have run all cells in your notebook in order before running the cell below, so that all images/graphs appear in the output. The cell below will generate a pdf file for you to submit. **Please save before exporting!** The exporter will not see any unsaved changes to your notebook."
   ]
  },
  {
   "cell_type": "code",
   "execution_count": null,
   "metadata": {},
   "outputs": [],
   "source": [
    "!../eps130_export eps130_hw5_seismicRefraction_v2.1.ipynb"
   ]
  },
  {
   "cell_type": "markdown",
   "metadata": {},
   "source": [
    "[Access your pdf here.](./eps130_hw5_seismicRefraction_v2.0.pdf)\n",
    "\n",
    "Remember to check that you pdf shows your most recent work before submitting."
   ]
  },
  {
   "cell_type": "markdown",
   "metadata": {
    "deletable": false,
    "editable": false
   },
   "source": [
    "## Submission\n",
    "\n",
    "Make sure you have run all cells in your notebook in order before running the cell below, so that all images/graphs appear in the output. The cell below will generate a zip file for you to submit. **Please save before exporting!**"
   ]
  },
  {
   "cell_type": "code",
   "execution_count": null,
   "metadata": {
    "deletable": false,
    "editable": false
   },
   "outputs": [],
   "source": [
    "# Save your notebook first, then run this cell to export your submission.\n",
    "grader.export()"
   ]
  },
  {
   "cell_type": "markdown",
   "metadata": {},
   "source": [
    " "
   ]
  }
 ],
 "metadata": {
  "anaconda-cloud": {},
  "kernelspec": {
   "display_name": "Python 3",
   "language": "python",
   "name": "python3"
  },
  "language_info": {
   "codemirror_mode": {
    "name": "ipython",
    "version": 3
   },
   "file_extension": ".py",
   "mimetype": "text/x-python",
   "name": "python",
   "nbconvert_exporter": "python",
   "pygments_lexer": "ipython3",
   "version": "3.8.5"
  }
 },
 "nbformat": 4,
 "nbformat_minor": 2
}
