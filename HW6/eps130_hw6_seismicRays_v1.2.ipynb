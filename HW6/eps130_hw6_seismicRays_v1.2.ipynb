{
 "cells": [
  {
   "cell_type": "code",
   "execution_count": null,
   "metadata": {
    "deletable": false,
    "editable": false
   },
   "outputs": [],
   "source": [
    "# Initialize Otter\n",
    "import otter\n",
    "grader = otter.Notebook(\"eps130_hw6_seismicRays_v1.2.ipynb\")"
   ]
  },
  {
   "cell_type": "markdown",
   "metadata": {},
   "source": [
    "# Seismic Rays\n",
    "We can use Snell's Law and simple geometry to calculate the path of a ray through a layered earth model, from source to receiver. One approach is to \"shoot\" rays of one type (direct, multiple, etc.) from the source at different angles and see where they end up reaching the surface. We could guess and check angles manually until we find the right distance to the reciever. The computer does the ray-shooting calculation fast enough that we might as well calculate the distance for a range of angles all at once, then select the angle with the closest result.\n",
    "\n",
    "Once we have the takeoff angle we can calculate the horizontal slowness $p$ of the ray. Then we can also determine the traveltime and solve for the wave amplitude."
   ]
  },
  {
   "cell_type": "code",
   "execution_count": 1,
   "metadata": {},
   "outputs": [],
   "source": [
    "import numpy as np\n",
    "# import matplotlib\n",
    "import matplotlib.pyplot as plt"
   ]
  },
  {
   "cell_type": "markdown",
   "metadata": {},
   "source": [
    "# Exercise 1: \"Shoot rays\"\n",
    "We'll work on modeling the two Upland, California earthquakes shown in lecture. The receiver distance for the records was 44km. We can begin with modeling the events at a depth of 25km."
   ]
  },
  {
   "cell_type": "markdown",
   "metadata": {},
   "source": [
    "## 1.1: Define parameters of the model"
   ]
  },
  {
   "cell_type": "code",
   "execution_count": 2,
   "metadata": {},
   "outputs": [],
   "source": [
    "#Define Parameters\n",
    "b1=2400    #layer 1 velocity m/s\n",
    "rho1=2400  #layer 1 density kg/m^3\n",
    "z1=4000    #depth of layer 1 m\n",
    "mu1=rho1*(b1**2)\n",
    "\n",
    "b2=3500    #layer 2 velocity m/s\n",
    "rho2=2670  #layer 2 density kg/m^3\n",
    "mu2=rho2*(b2**2)\n",
    "\n",
    "b3=4500    #layer 2 velocity m/s\n",
    "rho3=3300  #layer 2 density kg/m^3\n",
    "z3=35000   #depth of layer 3 m\n",
    "mu3=rho3*(b3**2)\n",
    "\n",
    "h=25000     #depth of source(earthquake) m\n",
    "x=44000    #distance of recording station m"
   ]
  },
  {
   "cell_type": "markdown",
   "metadata": {},
   "source": [
    "## 1.2: Shooting individual rays\n",
    "You can play with the angle i here to determine the arrival distance, time, and amplitude for the direct wave."
   ]
  },
  {
   "cell_type": "code",
   "execution_count": 3,
   "metadata": {
    "scrolled": true
   },
   "outputs": [],
   "source": [
    "#find traveltime: first we need to find the angle i that results in a ray reaching the station at desired distance\n",
    "\n",
    "#distance test equation\n",
    "i=62.9     #test angle of incidence in degrees\n",
    "x1=(h-z1)*np.tan(i*np.pi/180)\n",
    "x2=z1*np.tan(np.arcsin(b1/b2*np.sin(i*np.pi/180)))\n",
    "xtest=x1 + x2\n",
    "print(f' i={i:f} deg.   estimated_X={xtest/1000:.3f} km target_X={x/1000:.3f} km')\n",
    "\n",
    "#next find slownesses\n",
    "p=np.sin(i*np.pi/180)/b2\n",
    "n1=np.sqrt(1/b1**2 - p**2)\n",
    "n2=np.sqrt(1/b2**2 - p**2)\n",
    "print(f'slownesses p={p:e}  n1={n1:e}   n2={n2:e} s/m')\n",
    "\n",
    "#and traveltime\n",
    "t=p*x + (h-z1)*n2 + z1*n1\n",
    "\n",
    "#and amplitude\n",
    "T=(2*mu2*n2)/(mu1*n1 + mu2*n2)\n",
    "amp=1*T\n",
    "\n",
    "print(f'Wave arrival time={t:.3f} s  amplitude={amp:.3f}')\n"
   ]
  },
  {
   "cell_type": "markdown",
   "metadata": {
    "deletable": false,
    "editable": false
   },
   "source": [
    "## 1.3: Searching for rays by distance (10 pts)\n",
    "Now we'll use the same equations as above over a range of angles to find the angle more efficiently. The equations for the direct wave are included. Fill in the equations for the first multiple--one reflection in the upper layer.\n",
    "\n",
    "<!--\n",
    "BEGIN QUESTION\n",
    "name: q1.3\n",
    "-->"
   ]
  },
  {
   "cell_type": "code",
   "execution_count": 23,
   "metadata": {},
   "outputs": [],
   "source": [
    "#First Direct\n",
    "\n",
    "#automatically find i\n",
    "i=np.arange(0,90.0,0.0001)\n",
    "xdir1=(h-z1)*np.tan(i*np.pi/180)\n",
    "xdir2=z1*np.tan(np.arcsin(b1/b2*np.sin(i*np.pi/180)))\n",
    "xtestdir=xdir1 + xdir2\n",
    "Idir=np.argmin(np.abs(xtestdir-x))     #find index of minimum difference between xtest and target distance\n",
    "\n",
    "#next find slownesses\n",
    "p=np.sin(i[Idir]*np.pi/180)/b2\n",
    "n1=np.sqrt(1/b1**2 - p**2)\n",
    "n2=np.sqrt(1/b2**2 - p**2)\n",
    "#and traveltime\n",
    "tdir=p*xtestdir[Idir] + (h-z1)*n2 + z1*n1\n",
    "#and amplitude\n",
    "T=(2*mu2*n2)/(mu1*n1 + mu2*n2)\n",
    "ampdir=1*T\n",
    "\n",
    "#Next First Multiple\n",
    "xmul1 = ...\n",
    "...\n",
    "xtestmul = ...\n",
    "Imul=np.argmin(np.abs(xtestmul-x))     #find index of minimum difference between xtest and target distance\n",
    "\n",
    "\n",
    "#next find slownesses\n",
    "p=np.sin(i[Imul]*np.pi/180)/b2\n",
    "n1=np.sqrt(1/b1**2 - p**2)\n",
    "n2=np.sqrt(1/b2**2 - p**2)\n",
    "#and traveltime\n",
    "tmul=p*xtestmul[Imul] + (h-z1)*n2 + 3*z1*n1   #note factor of 3 SOLUTION\n",
    "#and amplitude\n",
    "T=(2*mu2*n2)/(mu1*n1 + mu2*n2)\n",
    "R= ...\n",
    "ampmul= ...\n",
    "\n",
    "print(f'Source depth: {h/1000} km\\n')\n",
    "print(f'Direct:\\ni={i[Idir]:.4f} degrees\\nx={xtestdir[Idir]/1000:.3f} km\\nWave arrival time={tdir:.3f} s  amplitude={ampdir:.3f}\\n')\n",
    "print(f'Multiple:\\ni={i[Imul]:.4f} degrees\\nx={xtestmul[Imul]/1000:.3f} km\\nWave arrival time={tmul:.3f} s  amplitude={ampmul:.3f}\\n')\n",
    "print(np.abs(ampdir/ampmul))\n",
    "# note: the tester below expects the original 25km test depth"
   ]
  },
  {
   "cell_type": "code",
   "execution_count": null,
   "metadata": {
    "deletable": false,
    "editable": false
   },
   "outputs": [],
   "source": [
    "grader.check(\"q1.3\")"
   ]
  },
  {
   "cell_type": "markdown",
   "metadata": {
    "deletable": false,
    "editable": false
   },
   "source": [
    "<!-- BEGIN QUESTION -->\n",
    "\n",
    "## 1.4: Evaluating source depth (10 pts)\n",
    "For the given distance, velocity, and density parameters re-compute the direct and multiple wave characteristics for a source depth of 9km and 18km. Discuss the timing and relative amplitude of the direct wave and first multiple arrivals. How might these arrivals be used to distinguish source depth when reviewing a seismogram?\n",
    "\n",
    "<!--\n",
    "BEGIN QUESTION\n",
    "name: q1.4\n",
    "manual: true\n",
    "-->"
   ]
  },
  {
   "cell_type": "markdown",
   "metadata": {},
   "source": [
    "_Type your answer here, replacing this text._"
   ]
  },
  {
   "cell_type": "markdown",
   "metadata": {},
   "source": [
    "<!-- END QUESTION -->\n",
    "\n",
    "\n",
    "\n",
    "# Exercise 2: Compare to Record\n",
    "The tangential component records for the two 1988 Upland California earthquakes are included in Fig. 1.\n",
    " \n",
    "<img src=records_labeled.png>  \n",
    "\n",
    "**Figure 1**: Broadband, Wood-Anderson long period, and Wood-Anderson short period (WASP) records for the 1988 Upland California earthquakes."
   ]
  },
  {
   "cell_type": "markdown",
   "metadata": {
    "deletable": false,
    "editable": false
   },
   "source": [
    "<!-- BEGIN QUESTION -->\n",
    "\n",
    "## 2.1: Measure records (10 pts)\n",
    "Make relative time and relative amplitude measurements for the direct and multiple arrivals. Use the WASP records and measure the amplitudes from peak to peak.\n",
    "\n",
    "<!--\n",
    "BEGIN QUESTION\n",
    "name: q2.1\n",
    "manual: true\n",
    "-->"
   ]
  },
  {
   "cell_type": "markdown",
   "metadata": {},
   "source": [
    "_Type your answer here, replacing this text._"
   ]
  },
  {
   "cell_type": "markdown",
   "metadata": {
    "deletable": false,
    "editable": false
   },
   "source": [
    "<!-- END QUESTION -->\n",
    "\n",
    "<!-- BEGIN QUESTION -->\n",
    "\n",
    "## 2.2: Estimate Depth (10 pts)\n",
    "Use your relative time and relative amplitude measurements to estimate the depth of the two 1988 Upland California earthquakes. First, find the source depth that gives an amplitude ratio  of 1 (e.g. ampdir/ampmul = 1). What does this tell you about the depths of the two Upland earthquakes? Now try refining the depth of each event. How close are you able to fit the calculated relative times and amplitudes to what you measured? Remember that the calculation is set up for a source in the second layer.\n",
    "\n",
    "<!--\n",
    "BEGIN QUESTION\n",
    "name: q2.2\n",
    "manual: true\n",
    "-->"
   ]
  },
  {
   "cell_type": "markdown",
   "metadata": {},
   "source": [
    "_Type your answer here, replacing this text._"
   ]
  },
  {
   "cell_type": "markdown",
   "metadata": {},
   "source": [
    "<!-- END QUESTION -->\n",
    "\n",
    "\n",
    "\n",
    "# Exercise 3: Extra Credit\n",
    "The following exercises are worth 10pts each, which will be added to your overall homework score. They are independent problems, so you can do as many or few as you wish. Any extra credit submissions are due one week beyond the rest of the assignment."
   ]
  },
  {
   "cell_type": "markdown",
   "metadata": {},
   "source": [
    "## 3.1: Improve the Fit (10 pts)\n",
    "Attempt to improve the fit to the earthquakes by adjusting the upper layer shear wave velocity and/or layer thickness to better match relative timing and refine your relative depth estimates."
   ]
  },
  {
   "cell_type": "markdown",
   "metadata": {},
   "source": [
    "## 3.2: Plot the Rays (10 pts)\n",
    "Write code to plot the model and the ray paths for the direct, and first multiple. An example plot with the direct (red) and Moho reflection (green, not calculated or required) is shown below.\n",
    "\n",
    "<img src=ray_plot_example.png>\n",
    "\n",
    "**Figure 2**: Example ray plot showing direct (red) and Moho reflection (green) rays."
   ]
  },
  {
   "cell_type": "markdown",
   "metadata": {},
   "source": [
    "## 3.3: Moho Reflection (10 pts)\n",
    "Set up the problem and write modified code for the Moho reflection (green ray above). Based on your arrival time and amplitude results, speculate whether or not the Moho reflection is important in the Upland earthquake data."
   ]
  },
  {
   "cell_type": "code",
   "execution_count": 42,
   "metadata": {},
   "outputs": [],
   "source": []
  },
  {
   "cell_type": "code",
   "execution_count": 43,
   "metadata": {},
   "outputs": [],
   "source": []
  },
  {
   "cell_type": "markdown",
   "metadata": {},
   "source": [
    "# Submission\n",
    "\n",
    "You should see two options for submission: The `eps130_export` and the `grader.export()` cells. Use whichever works for you. If all else fails, print to pdf from your browser.\n",
    "\n",
    "Make sure you have run all cells in your notebook in order before running the cell below, so that all images/graphs appear in the output. The cell below will generate a pdf file for you to submit. **Please save before exporting!** The exporter will not see any unsaved changes to your notebook."
   ]
  },
  {
   "cell_type": "code",
   "execution_count": null,
   "metadata": {},
   "outputs": [],
   "source": [
    "!../eps130_export eps130_hw6_seismicRays_v1.2.ipynb"
   ]
  },
  {
   "cell_type": "markdown",
   "metadata": {},
   "source": [
    "[Access your pdf here.](./eps130_hw6_seismicRays_v1.2.pdf)\n",
    "\n",
    "Remember to check that you pdf shows your most recent work before submitting."
   ]
  },
  {
   "cell_type": "markdown",
   "metadata": {
    "deletable": false,
    "editable": false
   },
   "source": [
    "## Submission\n",
    "\n",
    "Make sure you have run all cells in your notebook in order before running the cell below, so that all images/graphs appear in the output. The cell below will generate a zip file for you to submit. **Please save before exporting!**"
   ]
  },
  {
   "cell_type": "code",
   "execution_count": null,
   "metadata": {
    "deletable": false,
    "editable": false
   },
   "outputs": [],
   "source": [
    "# Save your notebook first, then run this cell to export your submission.\n",
    "grader.export()"
   ]
  },
  {
   "cell_type": "markdown",
   "metadata": {},
   "source": [
    " "
   ]
  }
 ],
 "metadata": {
  "kernelspec": {
   "display_name": "Python 3",
   "language": "python",
   "name": "python3"
  },
  "language_info": {
   "codemirror_mode": {
    "name": "ipython",
    "version": 3
   },
   "file_extension": ".py",
   "mimetype": "text/x-python",
   "name": "python",
   "nbconvert_exporter": "python",
   "pygments_lexer": "ipython3",
   "version": "3.8.5"
  }
 },
 "nbformat": 4,
 "nbformat_minor": 4
}
